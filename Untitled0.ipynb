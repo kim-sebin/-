{
  "nbformat": 4,
  "nbformat_minor": 0,
  "metadata": {
    "colab": {
      "name": "Untitled0.ipynb",
      "provenance": [],
      "authorship_tag": "ABX9TyPe95hmYVANFUDbDvpsgdPg",
      "include_colab_link": true
    },
    "kernelspec": {
      "name": "python3",
      "display_name": "Python 3"
    }
  },
  "cells": [
    {
      "cell_type": "markdown",
      "metadata": {
        "id": "view-in-github",
        "colab_type": "text"
      },
      "source": [
        "<a href=\"https://colab.research.google.com/github/kim-sebin/-/blob/master/Untitled0.ipynb\" target=\"_parent\"><img src=\"https://colab.research.google.com/assets/colab-badge.svg\" alt=\"Open In Colab\"/></a>"
      ]
    },
    {
      "cell_type": "code",
      "metadata": {
        "id": "lZHxmUpqE9bu",
        "colab_type": "code",
        "colab": {}
      },
      "source": [
        ""
      ],
      "execution_count": 0,
      "outputs": []
    },
    {
      "cell_type": "markdown",
      "metadata": {
        "id": "yn9f3mZsE-2Z",
        "colab_type": "text"
      },
      "source": [
        "인공지능 사관학교 프리 코스 과정"
      ]
    },
    {
      "cell_type": "markdown",
      "metadata": {
        "id": "pCC1pACCFsZK",
        "colab_type": "text"
      },
      "source": [
        "1주차 과제 (2020.05.25)"
      ]
    },
    {
      "cell_type": "markdown",
      "metadata": {
        "id": "vS1D9oPUKMLI",
        "colab_type": "text"
      },
      "source": [
        "- 언어 서비스 인공지능 : 네이버 파파고\n",
        "\n",
        "최근 파파고는 오프라인 번역 기능을 만들었다. 이를 이용하기 위해서는 앱 왼쪽 상단 삼선 메뉴에 위치한 오프라인 번역 기능을 클릭한 뒤, 방문할 지역 등에 적합한 언어팩을 미리 설치해두면 됩니다! 사용자가 네트워크가 없는 지역에 진입하게 되면 앱에서 자체적으로 네트워크 환경을 감지해 오프라인 번역 모드로 자동 전환이 되는 구조라고 한다.\n",
        "\n",
        "오프라인 번역 서비스는 현재까지는 한국어·영어·중국어·일본어로 이루어진 총 12개쌍의 언어에 대해서만 지원된다.\n",
        "\n",
        "파파고를 이끄는 신중휘 리더는 \"파파고만의 AI 번역 모델을 소형화해 작은 용량으로도 AI 번역 기술을 활용할 수 있다는 점이 특징\"이라며 \"사용자들이 자유롭게 언어의 장벽을 넘나들 수 있도록 지속적으로 서비스를 고도화해 나갈 예정\"이라고 말했습니다."
      ]
    },
    {
      "cell_type": "markdown",
      "metadata": {
        "id": "bxxTK_wIKl82",
        "colab_type": "text"
      },
      "source": [
        "- 음성 서비스 인공지능 : 기가지니\n",
        "\n",
        "빅스비 보이스는 실제 사람과 대화하는 것처럼 자연스러운 음성 서비스는 텍스트 음성 변환(Text-To-Speech, 이하 TTS)으로 구현했다. 이는 컴퓨터 프로그램을 통해 텍스트를 음성으로 변환해내는 기술로, 사전 녹음된 셀럽들의 목소리를 활용한다.\n",
        "\n",
        "과거에는 끊어 말하듯 부자연스러운 기계음으로 출력돼 다방면에서 사용할 수 없었으나, 삼성전자는 인공지능 기술이 적용된 뉴럴(Neural) TTS 기술을 개발해 더욱 자연스러운 음성을 만들어냈다. "
      ]
    },
    {
      "cell_type": "markdown",
      "metadata": {
        "id": "sw946822SE1U",
        "colab_type": "text"
      },
      "source": [
        "- 이미지 분석 인공지능 : 인공지능 알고리즘 CheXNeXt\n",
        "\n",
        "미국 스탠퍼드대 의대 방사선과 매튜 룬그렌 교수는 “책 읽는 인공지능이 문장을 읽는 것보다 훨씬 빠른 속도로 X선 이미지를 판독한다”면서 “촬영한 부위가 어디인지 알아내는 것뿐 아니라 14가지 병리학적 증상을 알아낼 수 있다”고 설명했다. CheXNeXt가 특별히 폐렴(Pneumonia)과 기흉(Pneumothorax), 무기폐(Atelectasis), 심장 비대(Cardiomegaly), 흉수(Effusion), 폐기종(Emphysema), 폐섬유화증(Fibrosis) 등 14가지 병리에 대해서 전문적으로 진단할 수 있도록 훈련받았기 때문이다."
      ]
    },
    {
      "cell_type": "markdown",
      "metadata": {
        "id": "P-uJXQWLY0Pd",
        "colab_type": "text"
      },
      "source": [
        "- 자율주행 인공지능 : 테슬라 AI Stack \n",
        "\n",
        "테슬라 자율주행 신경망\n",
        "\n",
        "​(1) Semantic Segmentation\n",
        "\n",
        "1) 분류 (Classification): 인풋(Input)에 대한 레이블(Label)을 예측하는 작업. 대표적인 모델로 AlexNet, ResNet, Xception\n",
        "\n",
        "​2) 발견 (Localization / Detection): 레이블을 예측하면서 그 대상이 어디에 있는지 라벨링(Labeling) 등을 하며 정보를 제공. 대표 모델로 YOLO, R-CNN\n",
        "\n",
        "​3) 분할 (Segmentation): 모든 픽셀에 대해서 레이블을 예측. 대표 모델로 FCN, SegNet, DeepLab"
      ]
    }
  ]
}